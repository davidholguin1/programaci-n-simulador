{
 "cells": [
  {
   "cell_type": "markdown",
   "metadata": {},
   "source": [
    "**Modelo de hogares**"
   ]
  },
  {
   "cell_type": "markdown",
   "metadata": {},
   "source": [
    "Importar las librerias necesarias para la programación."
   ]
  },
  {
   "cell_type": "code",
   "execution_count": null,
   "metadata": {},
   "outputs": [],
   "source": [
    "import statsmodels.api as sm\n",
    "from patsy import dmatrices\n",
    "import statsmodels.api as st\n",
    "from patsy import dmatrices\n",
    "import pandas as pd\n",
    "import os\n",
    "import matplotlib.pyplot as plt\n",
    "import numpy as np\n",
    "import re\n",
    "import seaborn as sns\n",
    "import patsy as pt\n",
    "from statsmodels.genmod.generalized_estimating_equations import GEE\n",
    "from sklearn import linear_model\n",
    "from sklearn import model_selection\n",
    "from sklearn import metrics\n",
    "from sklearn.metrics import classification_report\n",
    "from sklearn.metrics import confusion_matrix\n",
    "from sklearn.metrics import accuracy_score\n",
    "from statsmodels.genmod.generalized_estimating_equations import GEE\n",
    "from statsmodels.genmod.cov_struct import (Exchangeable,\n",
    "    Independence,Autoregressive)\n",
    "from statsmodels.genmod.families import Poisson"
   ]
  },
  {
   "cell_type": "markdown",
   "metadata": {},
   "source": [
    "Copiar la ubicación donde se encuentran los archivos de entrada del modelo."
   ]
  },
  {
   "cell_type": "code",
   "execution_count": null,
   "metadata": {},
   "outputs": [],
   "source": [
    "os.chdir(r'C:\\Users\\david\\OneDrive\\Escritorio\\')"
   ]
  },
  {
   "cell_type": "markdown",
   "metadata": {},
   "source": [
    "Declarar como un data frame la base del modelo."
   ]
  },
  {
   "cell_type": "code",
   "execution_count": null,
   "metadata": {},
   "outputs": [],
   "source": [
    "ipath_hogares = 'modelo_hogares.xlsx'\n",
    "df_hogares = pd.read_excel(ipath_hogares)"
   ]
  },
  {
   "cell_type": "markdown",
   "metadata": {},
   "source": [
    "Crear la constante del modelo de regresión"
   ]
  },
  {
   "cell_type": "code",
   "execution_count": null,
   "metadata": {},
   "outputs": [],
   "source": [
    "df_hogares['intercept']= 1"
   ]
  },
  {
   "cell_type": "markdown",
   "metadata": {},
   "source": [
    "Generar las matrices con las variables independientes y dependientes de los modelos."
   ]
  },
  {
   "cell_type": "code",
   "execution_count": null,
   "metadata": {},
   "outputs": [],
   "source": [
    "dep_hogares1 = df_hogares['mov_hogares1_upz']\n",
    "dep_hogares2 = df_hogares['mov_hogares2_upz']\n",
    "dep_hogares3 = df_hogares['mov_hogares3_upz']\n",
    "indep_pois = df_hogares[['acc_3_10mil','m2_resid_mill','suelo_exp_mill','p_hog2_upz','p_hog3_upz','intercept']]"
   ]
  },
  {
   "cell_type": "markdown",
   "metadata": {},
   "source": [
    "Estimación y predicción del modelo para la categoría de ingresos n1."
   ]
  },
  {
   "cell_type": "code",
   "execution_count": null,
   "metadata": {},
   "outputs": [],
   "source": [
    "poisson_hogares1_results = sm.GLM(dep_hogares1, indep_pois, family=sm.families.Poisson()).fit()\n",
    "print(poisson_hogares1_results.summary())\n",
    "df_hogares['predict_hogares1'] = poisson_hogares1_results.predict(indep_pois)\n",
    "df_hogares['porc_hogares1']= df_hogares['predict_hogares1']/df_hogares['predict_hogares1'].sum()\n",
    "df_hogares['porc_hogares1'].sum()"
   ]
  },
  {
   "cell_type": "markdown",
   "metadata": {},
   "source": [
    "Estimación y predicción del modelo para la categoría de ingresos n2"
   ]
  },
  {
   "cell_type": "code",
   "execution_count": null,
   "metadata": {},
   "outputs": [],
   "source": [
    "poisson_hogares2_results = sm.GLM(dep_hogares2, indep_pois, family=sm.families.Poisson()).fit()\n",
    "print(poisson_hogares2_results.summary())\n",
    "df_hogares['predict_hogares2'] = poisson_hogares2_results.predict(indep_pois)\n",
    "df_hogares['porc_hogares2']= df_hogares['predict_hogares2']/df_hogares['predict_hogares2'].sum()\n",
    "df_hogares['porc_hogares2'].sum()"
   ]
  },
  {
   "cell_type": "code",
   "execution_count": null,
   "metadata": {},
   "outputs": [],
   "source": []
  }
 ],
 "metadata": {
  "kernelspec": {
   "display_name": "Python 2",
   "language": "python",
   "name": "python2"
  },
  "language_info": {
   "codemirror_mode": {
    "name": "ipython",
    "version": 2
   },
   "file_extension": ".py",
   "mimetype": "text/x-python",
   "name": "python",
   "nbconvert_exporter": "python",
   "pygments_lexer": "ipython2",
   "version": "2.7.16"
  }
 },
 "nbformat": 4,
 "nbformat_minor": 2
}
